{
 "cells": [
  {
   "cell_type": "markdown",
   "metadata": {},
   "source": [
    "# VScode notes\n",
    "\n",
    "## First, make sure conda-forge is your preferred channel\n",
    "\n",
    "```\n",
    "% conda config --show channels\n",
    "channels:\n",
    "  - conda-forge\n",
    "  - defaults\n",
    "```\n",
    "\n",
    "If defaults is above conda-forge, revers this with:\n",
    "\n",
    "```\n",
    "% conda config --prepend channels conda-forge\n",
    "Warning: 'conda-forge' already in 'channels' list, moving to the top\n",
    "```\n",
    "\n",
    "## Next install vscode from https://code.visualstudio.com/download\n",
    "\n",
    "Install the command line version as well. On windows, this should be done as part of \n",
    "the install.  On MacOS, you need to open the vscode command pallette (&#8984;shift-P) and type\n",
    "```\n",
    "Shell Command: Install 'code' \n",
    "```\n",
    "\n",
    "once that is done, you should be able to start vscode from the command line in a particular\n",
    "folder by typing:\n",
    "\n",
    "```\n",
    "code .\n",
    "```\n",
    "\n",
    "## Some definitions\n",
    "\n",
    "In vscode a \"workspace\" is any folder containing a folder named .vscode or a file ending in `code-workspace`.\n",
    "The .vscode folder denotes a \"single root\" workspace, in which everything in the tree below\n",
    "the folder containing the .vscode file has the same default specifications.  If instead the folder contains\n",
    "a \"code-workspace\" file, then the workspace is \"multiroot\" and can have independent toplevel .vscode settings.\n",
    "Here is an example of a [workspace file for numeric](  https://github.com/phaustin/numeric/blob/master/utils/numeric.code-workspace) and here is an example\n",
    "of a [vscode folder](https://github.com/phaustin/numeric/tree/master/utils/.vscode)\n",
    "\n",
    "## Possible workflows\n",
    "\n",
    "First, install the [python extension](https://marketplace.visualstudio.com/items?itemName=ms-python.python).\n",
    "\n",
    "Next, as demonstrated in class, if you open a file ending in \".py\", and set the python interpeter to the\n",
    "conda numeric environment, you can then save workspace called \"numeric\", add flake8 as your linter,\n",
    "and black as your formatter.  At that point you are getting both intellisense command competions and\n",
    "linting and formatting.  Another possible route is to install ipython:\n",
    "\n",
    "```\n",
    "conda install ipython\n",
    "```\n",
    "\n",
    "and start ipython in a bash terminal with:\n",
    "\n",
    "```\n",
    "ipython --matplotlib\n",
    "```\n",
    "\n",
    "so that you can pop up figures that are much larger than the vscode window.\n",
    "\n",
    "##  Next steps\n",
    "\n",
    "1. Using git with vscode\n",
    "2. Writing markdown with vscode\n"
   ]
  },
  {
   "cell_type": "code",
   "execution_count": null,
   "metadata": {},
   "outputs": [],
   "source": []
  },
  {
   "cell_type": "code",
   "execution_count": null,
   "metadata": {},
   "outputs": [],
   "source": []
  }
 ],
 "metadata": {
  "jupytext": {
   "cell_metadata_filter": "all",
   "notebook_metadata_filter": "all,-language_info,-toc,-latex_envs",
   "text_representation": {
    "extension": ".py",
    "format_name": "percent",
    "format_version": "1.3",
    "jupytext_version": "1.3.2"
   }
  },
  "kernelspec": {
   "display_name": "Python 3",
   "language": "python",
   "name": "python3"
  },
  "language_info": {
   "codemirror_mode": {
    "name": "ipython",
    "version": 3
   },
   "file_extension": ".py",
   "mimetype": "text/x-python",
   "name": "python",
   "nbconvert_exporter": "python",
   "pygments_lexer": "ipython3",
   "version": "3.7.6"
  },
  "latex_envs": {
   "LaTeX_envs_menu_present": true,
   "autoclose": false,
   "autocomplete": true,
   "bibliofile": "biblio.bib",
   "cite_by": "apalike",
   "current_citInitial": 1,
   "eqLabelWithNumbers": true,
   "eqNumInitial": 1,
   "hotkeys": {
    "equation": "meta-9"
   },
   "labels_anchors": false,
   "latex_user_defs": false,
   "report_style_numbering": false,
   "user_envs_cfg": false
  }
 },
 "nbformat": 4,
 "nbformat_minor": 4
}
