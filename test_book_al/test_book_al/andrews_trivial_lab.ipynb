{
 "cells": [
  {
   "cell_type": "markdown",
   "metadata": {},
   "source": [
    "# Andrew's Trivial Lab \n",
    "### A program for testing git and github"
   ]
  },
  {
   "cell_type": "markdown",
   "metadata": {},
   "source": [
    "This is some trivial content using markdown, LaTeX, and Python code to solve a simple problem using Python code. Here's an equation. $y$ is a *linear function* of $x$:\n",
    "\n",
    "\n",
    "$$\n",
    "    y = mx + b\\tag{equation of a line}\n",
    "$$\n",
    "\n",
    "\n",
    "Edit the cell below by entering your values for $m$, $x$ and $b$. The output of the cell will be the value of $y$ corresponding to the values you enter.\n",
    "\n",
    "### Problem 1:"
   ]
  },
  {
   "cell_type": "code",
   "execution_count": 3,
   "metadata": {},
   "outputs": [
    {
     "output_type": "stream",
     "name": "stdout",
     "text": "1*1 + 1 = 2\n"
    }
   ],
   "source": [
    "# Choose values for m, x, and b\n",
    "m = 1\n",
    "x = 1\n",
    "b = 1\n",
    "\n",
    "y = m * x + b\n",
    "print(f'{m}*{x} + {b} = {y}')"
   ]
  },
  {
   "cell_type": "markdown",
   "metadata": {},
   "source": [
    "### Problem 2:\n",
    "Write a cell which solves a *quadratic equation*. \n",
    "\n",
    "*HINT: A quadratic equation is of the form $y = ax^2 + bx + c$. $x^2$ is written in Python as \"x**2\"*"
   ]
  },
  {
   "cell_type": "code",
   "execution_count": 4,
   "metadata": {},
   "outputs": [],
   "source": [
    "# your code goes here"
   ]
  },
  {
   "cell_type": "markdown",
   "metadata": {},
   "source": [
    "### Conclusion\n",
    "We can use Jupyter notebooks to solve math problems. "
   ]
  }
 ],
 "metadata": {
  "kernelspec": {
   "display_name": "Python 3",
   "language": "python",
   "name": "python3"
  },
  "language_info": {
   "codemirror_mode": {
    "name": "ipython",
    "version": 3
   },
   "file_extension": ".py",
   "mimetype": "text/x-python",
   "name": "python",
   "nbconvert_exporter": "python",
   "pygments_lexer": "ipython3",
   "version": "3.7.6-final"
  }
 },
 "nbformat": 4,
 "nbformat_minor": 4
}